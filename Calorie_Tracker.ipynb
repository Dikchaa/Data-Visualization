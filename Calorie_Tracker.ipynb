{
  "nbformat": 4,
  "nbformat_minor": 0,
  "metadata": {
    "colab": {
      "provenance": []
    },
    "kernelspec": {
      "name": "python3",
      "display_name": "Python 3"
    },
    "language_info": {
      "name": "python"
    }
  },
  "cells": [
    {
      "cell_type": "code",
      "source": [
        "from dataclasses import dataclass\n",
        "\n",
        "import numpy as np\n",
        "import matplotlib.pyplot as plt\n",
        "\n",
        "CALORIE_GOAL_LIMIT = 3000 #kcal\n",
        "PROTEIN_GOAL = 180 #grams\n",
        "FAT_GOAL = 80 #grams\n",
        "CARBS_GOAL = 300 #grams\n",
        "\n",
        "today=[]\n",
        "@dataclass\n",
        "class Food:\n",
        "  name: str\n",
        "  calories:int\n",
        "  protein:int\n",
        "  fat:int\n",
        "  carbs:int\n",
        "\n",
        "done=False\n",
        "\n",
        "while not done:\n",
        "  print(\"\"\"\n",
        "  (1) Add a new food\n",
        "  (2) Visualize progress\n",
        "  (q) quit\n",
        "  \"\"\")\n",
        "\n",
        "  choice=input(\"Choose an option: \")\n",
        "  if choice ==\"1\":\n",
        "    print(\"Adding a new food!\")\n",
        "    name=input(\"Name: \")\n",
        "    calories=int(input(\"Calories: \"))\n",
        "    proteins=int(input(\"Proteins: \"))\n",
        "    fats=int(input(\"Fats: \"))\n",
        "    carbs=int(input(\"Carbs: \"))\n",
        "    food=Food(name, calories, proteins, fats , carbs)\n",
        "    today.append(food)\n",
        "    print(\"Successfully Added!\")\n",
        "  elif choice==\"2\":\n",
        "    calories_sum=sum(food.calories for food in today)\n",
        "    protein_sum=sum(food.protein for food in today)\n",
        "    fats_sum=sum(food.fat for food in today)\n",
        "    carbs_sum=sum(food.carbs for food in today)\n",
        "\n",
        "    fig, axs=plt.subplots(2,2)\n",
        "    axs[0, 0].pie([protein_sum, fats_sum, carbs_sum], labels=[\"Proteins\", \"Fats\", \"Carbs\"], autopct=\"%1.1f\")\n",
        "    axs[0, 0].set_title(\"Macronutrients Distribution\")\n",
        "    axs[0, 1].bar([0, 1, 2], [protein_sum, fats_sum, carbs_sum], width=0.4)\n",
        "    axs[0, 1].bar([0.5, 1.5, 2.5], [PROTEIN_GOAL, FAT_GOAL, CARBS_GOAL], width=0.4)\n",
        "    axs[0, 1].set_title(\"Macronutrients Progress\")\n",
        "    axs[1, 0].pie([calories_sum, CALORIE_GOAL_LIMIT - calories_sum], labels=[\"Calories\", \"Remaining\"], autopct=\"%1.1f\")\n",
        "    axs[1, 0].set_title(\"Calories Goal Progress\")\n",
        "    axs[1, 1].plot(list(range(len(today))), np.cumsum([food.calories for food in today]), label=\"Calories Eaten\")\n",
        "    axs[1, 1].plot(list(range(len(today))), [CALORIE_GOAL_LIMIT]*len(today), label=\"Calorie Goal\")\n",
        "    axs[1, 1].legend()\n",
        "    axs[1, 1].set_title(\"Calories Goal Over Time\")\n",
        "    fig.tight_layout()\n",
        "    plt.show()\n",
        "  elif choice==\"q\":\n",
        "       done=True\n",
        "  else:\n",
        "      print(\"Invalid Choice!\")"
      ],
      "metadata": {
        "colab": {
          "base_uri": "https://localhost:8080/",
          "height": 1000
        },
        "id": "kIvXQwhddoMH",
        "outputId": "2db01240-3e18-434a-d60e-d5b3842ba4ce"
      },
      "execution_count": 22,
      "outputs": [
        {
          "name": "stdout",
          "output_type": "stream",
          "text": [
            "\n",
            "  (1) Add a new food\n",
            "  (2) Visualize progress\n",
            "  (q) quit\n",
            "  \n",
            "Choose an option: 1\n",
            "Adding a new food!\n",
            "Name: choco\n",
            "Calories: 1000\n",
            "Proteins: 20\n",
            "Fats: 30\n",
            "Carbs: 100\n",
            "Successfully Added!\n",
            "\n",
            "  (1) Add a new food\n",
            "  (2) Visualize progress\n",
            "  (q) quit\n",
            "  \n",
            "Choose an option: dal\n",
            "Invalid Choice!\n",
            "\n",
            "  (1) Add a new food\n",
            "  (2) Visualize progress\n",
            "  (q) quit\n",
            "  \n",
            "Choose an option: 400\n",
            "Invalid Choice!\n",
            "\n",
            "  (1) Add a new food\n",
            "  (2) Visualize progress\n",
            "  (q) quit\n",
            "  \n",
            "Choose an option: 1\n",
            "Adding a new food!\n",
            "Name: dal\n",
            "Calories: 400\n",
            "Proteins: 20\n",
            "Fats: 40\n",
            "Carbs: 100\n",
            "Successfully Added!\n",
            "\n",
            "  (1) Add a new food\n",
            "  (2) Visualize progress\n",
            "  (q) quit\n",
            "  \n",
            "Choose an option: 1\n",
            "Adding a new food!\n",
            "Name: roti\n",
            "Calories: 905\n",
            "Proteins: 55\n",
            "Fats: 10\n",
            "Carbs: 170\n",
            "Successfully Added!\n",
            "\n",
            "  (1) Add a new food\n",
            "  (2) Visualize progress\n",
            "  (q) quit\n",
            "  \n",
            "Choose an option: 2\n"
          ]
        },
        {
          "output_type": "display_data",
          "data": {
            "text/plain": [
              "<Figure size 432x288 with 4 Axes>"
            ],
            "image/png": "[encoded data removed]"
          },
          "metadata": {
            "needs_background": "light"
          }
        },
        {
          "output_type": "stream",
          "name": "stdout",
          "text": [
            "\n",
            "  (1) Add a new food\n",
            "  (2) Visualize progress\n",
            "  (q) quit\n",
            "  \n"
          ]
        },
        {
          "output_type": "error",
          "ename": "KeyboardInterrupt",
          "evalue": "ignored",
          "traceback": [
            "\u001b[0;31m---------------------------------------------------------------------------\u001b[0m",
            "\u001b[0;31mKeyboardInterrupt\u001b[0m                         Traceback (most recent call last)",
            "\u001b[0;32m<ipython-input-22-9011a0e2cb78>\u001b[0m in \u001b[0;36m<module>\u001b[0;34m\u001b[0m\n\u001b[1;32m     27\u001b[0m   \"\"\")\n\u001b[1;32m     28\u001b[0m \u001b[0;34m\u001b[0m\u001b[0m\n\u001b[0;32m---> 29\u001b[0;31m   \u001b[0mchoice\u001b[0m\u001b[0;34m=\u001b[0m\u001b[0minput\u001b[0m\u001b[0;34m(\u001b[0m\u001b[0;34m\"Choose an option: \"\u001b[0m\u001b[0;34m)\u001b[0m\u001b[0;34m\u001b[0m\u001b[0;34m\u001b[0m\u001b[0m\n\u001b[0m\u001b[1;32m     30\u001b[0m   \u001b[0;32mif\u001b[0m \u001b[0mchoice\u001b[0m \u001b[0;34m==\u001b[0m\u001b[0;34m\"1\"\u001b[0m\u001b[0;34m:\u001b[0m\u001b[0;34m\u001b[0m\u001b[0;34m\u001b[0m\u001b[0m\n\u001b[1;32m     31\u001b[0m     \u001b[0mprint\u001b[0m\u001b[0;34m(\u001b[0m\u001b[0;34m\"Adding a new food!\"\u001b[0m\u001b[0;34m)\u001b[0m\u001b[0;34m\u001b[0m\u001b[0;34m\u001b[0m\u001b[0m\n",
            "\u001b[0;32m/usr/local/lib/python3.8/dist-packages/ipykernel/kernelbase.py\u001b[0m in \u001b[0;36mraw_input\u001b[0;34m(self, prompt)\u001b[0m\n\u001b[1;32m    858\u001b[0m                 \u001b[0;34m\"raw_input was called, but this frontend does not support input requests.\"\u001b[0m\u001b[0;34m\u001b[0m\u001b[0;34m\u001b[0m\u001b[0m\n\u001b[1;32m    859\u001b[0m             )\n\u001b[0;32m--> 860\u001b[0;31m         return self._input_request(str(prompt),\n\u001b[0m\u001b[1;32m    861\u001b[0m             \u001b[0mself\u001b[0m\u001b[0;34m.\u001b[0m\u001b[0m_parent_ident\u001b[0m\u001b[0;34m,\u001b[0m\u001b[0;34m\u001b[0m\u001b[0;34m\u001b[0m\u001b[0m\n\u001b[1;32m    862\u001b[0m             \u001b[0mself\u001b[0m\u001b[0;34m.\u001b[0m\u001b[0m_parent_header\u001b[0m\u001b[0;34m,\u001b[0m\u001b[0;34m\u001b[0m\u001b[0;34m\u001b[0m\u001b[0m\n",
            "\u001b[0;32m/usr/local/lib/python3.8/dist-packages/ipykernel/kernelbase.py\u001b[0m in \u001b[0;36m_input_request\u001b[0;34m(self, prompt, ident, parent, password)\u001b[0m\n\u001b[1;32m    902\u001b[0m             \u001b[0;32mexcept\u001b[0m \u001b[0mKeyboardInterrupt\u001b[0m\u001b[0;34m:\u001b[0m\u001b[0;34m\u001b[0m\u001b[0;34m\u001b[0m\u001b[0m\n\u001b[1;32m    903\u001b[0m                 \u001b[0;31m# re-raise KeyboardInterrupt, to truncate traceback\u001b[0m\u001b[0;34m\u001b[0m\u001b[0;34m\u001b[0m\u001b[0;34m\u001b[0m\u001b[0m\n\u001b[0;32m--> 904\u001b[0;31m                 \u001b[0;32mraise\u001b[0m \u001b[0mKeyboardInterrupt\u001b[0m\u001b[0;34m(\u001b[0m\u001b[0;34m\"Interrupted by user\"\u001b[0m\u001b[0;34m)\u001b[0m \u001b[0;32mfrom\u001b[0m \u001b[0;32mNone\u001b[0m\u001b[0;34m\u001b[0m\u001b[0;34m\u001b[0m\u001b[0m\n\u001b[0m\u001b[1;32m    905\u001b[0m             \u001b[0;32mexcept\u001b[0m \u001b[0mException\u001b[0m \u001b[0;32mas\u001b[0m \u001b[0me\u001b[0m\u001b[0;34m:\u001b[0m\u001b[0;34m\u001b[0m\u001b[0;34m\u001b[0m\u001b[0m\n\u001b[1;32m    906\u001b[0m                 \u001b[0mself\u001b[0m\u001b[0;34m.\u001b[0m\u001b[0mlog\u001b[0m\u001b[0;34m.\u001b[0m\u001b[0mwarning\u001b[0m\u001b[0;34m(\u001b[0m\u001b[0;34m\"Invalid Message:\"\u001b[0m\u001b[0;34m,\u001b[0m \u001b[0mexc_info\u001b[0m\u001b[0;34m=\u001b[0m\u001b[0;32mTrue\u001b[0m\u001b[0;34m)\u001b[0m\u001b[0;34m\u001b[0m\u001b[0;34m\u001b[0m\u001b[0m\n",
            "\u001b[0;31mKeyboardInterrupt\u001b[0m: Interrupted by user"
          ]
        },
        {
          "name": "stdout",
          "output_type": "stream",
          "text": [
            "Choose an option: q\n"
          ]
        }
      ]
    }
  ]
}